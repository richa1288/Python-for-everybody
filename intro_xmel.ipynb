{
  "nbformat": 4,
  "nbformat_minor": 0,
  "metadata": {
    "colab": {
      "name": "intro_xmel.ipynb",
      "provenance": [],
      "collapsed_sections": [],
      "mount_file_id": "1Nvtig4TPguDjdFRe48WSJz54qMxOZPTR",
      "authorship_tag": "ABX9TyN3Y9YmOT9Iy30tJMnD/91N",
      "include_colab_link": true
    },
    "kernelspec": {
      "name": "python3",
      "display_name": "Python 3"
    },
    "language_info": {
      "name": "python"
    }
  },
  "cells": [
    {
      "cell_type": "markdown",
      "metadata": {
        "id": "view-in-github",
        "colab_type": "text"
      },
      "source": [
        "<a href=\"https://colab.research.google.com/github/richa1288/Python-for-everybody/blob/main/intro_xmel.ipynb\" target=\"_parent\"><img src=\"https://colab.research.google.com/assets/colab-badge.svg\" alt=\"Open In Colab\"/></a>"
      ]
    },
    {
      "cell_type": "code",
      "execution_count": null,
      "metadata": {
        "colab": {
          "base_uri": "https://localhost:8080/"
        },
        "id": "JKLX195HZty7",
        "outputId": "efaac36b-25a5-4ad7-917c-8a57a0f217c7"
      },
      "outputs": [
        {
          "output_type": "stream",
          "name": "stdout",
          "text": [
            "Name: Chuck\n",
            "Attr: yes\n"
          ]
        }
      ],
      "source": [
        "import xml.etree.ElementTree as ET\n",
        "\n",
        "data = '''\n",
        "<person>\n",
        "  <name>Chuck</name>\n",
        "  <phone type=\"intl\">\n",
        "    +1 734 303 4456\n",
        "  </phone>\n",
        "  <email hide=\"yes\" />\n",
        "</person>'''\n",
        "\n",
        "tree = ET.fromstring(data)\n",
        "print('Name:', tree.find('name').text)\n",
        "print('Attr:', tree.find('email').get('hide'))"
      ]
    }
  ]
}